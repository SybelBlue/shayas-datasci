{
 "cells": [
  {
   "cell_type": "markdown",
   "id": "c4b8dc89",
   "metadata": {},
   "source": [
    "# Notebook Fundamentals\n",
    "\n",
    "Notebooks are divided into cells. Cells can either be text descriptions (which we write in Markdown) or they can be code cells (which we write in Python).\n",
    "\n",
    "*Press the pencil icon on top of this cell to see the Markdown used to generate this block!*\n",
    "\n",
    "## Part 1\n",
    "\n",
    "**Task**: Begin by writing a new python cell below this one that writes hello world, and run it using the `|>` button at the top right of the new cell.\n",
    "\n",
    "(To add a cell, press the `+ Code` or `+ Markdown` buttons.)"
   ]
  },
  {
   "cell_type": "markdown",
   "id": "50ad78ff",
   "metadata": {},
   "source": [
    "## Part 2\n",
    "\n",
    "Good! \n",
    "\n",
    "Every programming language has docs, Python and Markdown's are both quite good! For this section we will refer to the Python docs.\n",
    "\n",
    "Now find the official python documentation for the function `open`, and put it in between the `[ ]` of the following (currently broken) link to the open documentation [*fix me* `open` doc link]() *(and then remove the \"\\*fix me\\*\")*.\n",
    "\n",
    "**Task**: In a new cell, use the `open` function to print the contents of `hello_world.txt`."
   ]
  }
 ],
 "metadata": {
  "language_info": {
   "name": "python"
  }
 },
 "nbformat": 4,
 "nbformat_minor": 5
}
