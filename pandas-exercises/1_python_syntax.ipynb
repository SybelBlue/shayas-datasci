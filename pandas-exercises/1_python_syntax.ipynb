{
 "cells": [
  {
   "cell_type": "markdown",
   "metadata": {},
   "source": [
    "# Python Basics: A Beginner's Guide\n",
    "\n",
    "Welcome! This notebook will teach you the fundamental syntax of Python."
   ]
  },
  {
   "cell_type": "markdown",
   "metadata": {},
   "source": [
    "## 1. Variables and Data Types\n",
    "\n",
    "Variables store data. Python has several basic data types."
   ]
  },
  {
   "cell_type": "code",
   "execution_count": null,
   "metadata": {},
   "outputs": [],
   "source": [
    "# Numbers\n",
    "age = 25\n",
    "price = 19.99\n",
    "\n",
    "# Strings (text)\n",
    "name = \"Alice\"\n",
    "greeting = 'Hello!'\n",
    "\n",
    "# Booleans (True/False)\n",
    "is_student = True\n",
    "has_license = False\n",
    "\n",
    "print(name, \"is\", age, \"years old\")\n",
    "print(\"Price:\", price)\n",
    "\n",
    "# Comments\n",
    "# comments begin with a `#` and are not run!\n",
    "# print('silly string') # see!\n",
    "# uncomment the following code to say hello to alice:\n",
    "# print('Hello', name)\n"
   ]
  },
  {
   "cell_type": "markdown",
   "metadata": {},
   "source": [
    "## 2. Basic Operations"
   ]
  },
  {
   "cell_type": "code",
   "execution_count": null,
   "metadata": {},
   "outputs": [],
   "source": [
    "# Math operations\n",
    "x = 10\n",
    "y = 3\n",
    "\n",
    "print(\"Addition:\", x + y)\n",
    "print(\"Subtraction:\", x - y)\n",
    "print(\"Multiplication:\", x * y)\n",
    "print(\"Division:\", x / y)\n",
    "print(\"Integer division:\", x // y)\n",
    "print(\"Remainder:\", x % y)\n",
    "print(\"Power:\", x ** y)\n",
    "\n",
    "# whats the difference between division and integer division?"
   ]
  },
  {
   "cell_type": "markdown",
   "metadata": {},
   "source": [
    "## 3. Lists\n",
    "\n",
    "Lists store multiple items in order."
   ]
  },
  {
   "cell_type": "code",
   "execution_count": null,
   "metadata": {},
   "outputs": [],
   "source": [
    "fruits = [\"apple\", \"banana\", \"orange\"]\n",
    "numbers = [1, 2, 3, 4, 5]\n",
    "\n",
    "# accessing list items starts from zero:\n",
    "print(\"First fruit:\", fruits[0])\n",
    "# but they can wrap around negative too!\n",
    "print(\"Last number:\", numbers[-1])\n",
    "# make me print banana:\n",
    "print(fruits[-1], \"orange you glad I didn't say orange?\")\n",
    "\n",
    "\n",
    "# Add to list\n",
    "fruits.append(\"grape\")\n",
    "print(\"Updated fruits:\", fruits)"
   ]
  },
  {
   "cell_type": "markdown",
   "metadata": {},
   "source": [
    "## 4. Conditionals (if/else)\n",
    "\n",
    "Make decisions in your code."
   ]
  },
  {
   "cell_type": "code",
   "execution_count": null,
   "metadata": {},
   "outputs": [],
   "source": [
    "temperature = 75\n",
    "\n",
    "if temperature > 80:\n",
    "    print(\"It's hot!\")\n",
    "elif temperature > 60:\n",
    "    print(\"It's nice outside.\")\n",
    "else:\n",
    "    print(\"It's cold!\")\n",
    "\n",
    "# add another conditional to check if\n",
    "# the temp is between 60 and 20 and say\n",
    "# \"it's a little brisk...\""
   ]
  },
  {
   "cell_type": "markdown",
   "metadata": {},
   "source": [
    "## 5. Loops\n",
    "\n",
    "Repeat actions multiple times."
   ]
  },
  {
   "cell_type": "code",
   "execution_count": null,
   "metadata": {},
   "outputs": [],
   "source": [
    "# For loop - iterate through a list\n",
    "colors = [\"red\", \"green\", \"blue\"]\n",
    "\n",
    "for color in colors:\n",
    "    print(\"I like\", color)\n",
    "\n",
    "# For loop - with range\n",
    "for i in range(5):\n",
    "    print(\"Count:\", i)\n",
    "\n",
    "no_of_colors = len(colors)\n",
    "for i in range(no_of_colors):\n",
    "    print(\"color\", i, \"is\", \"????\") # fix me!!"
   ]
  },
  {
   "cell_type": "code",
   "execution_count": null,
   "metadata": {},
   "outputs": [],
   "source": [
    "# While loop, good to know about!\n",
    "count = 0\n",
    "\n",
    "while count < 3:\n",
    "    print(\"Count is\", count)\n",
    "    count += 1  # Same as count = count + 1"
   ]
  },
  {
   "cell_type": "markdown",
   "metadata": {},
   "source": [
    "## 6. Functions\n",
    "\n",
    "Reusable blocks of code."
   ]
  },
  {
   "cell_type": "code",
   "execution_count": null,
   "metadata": {},
   "outputs": [],
   "source": [
    "def greet(name):\n",
    "    \"\"\"This function greets a person.\"\"\"\n",
    "    return f\"Hello, {name}!\"\n",
    "\n",
    "def add_numbers(a, b):\n",
    "    return a + b\n",
    "\n",
    "# Using functions\n",
    "message = greet(\"Bob\")\n",
    "print(message)\n",
    "\n",
    "result = add_numbers(5, 7)\n",
    "print(\"Sum:\", result)\n",
    "\n",
    "# make a function to find the lesser of two numbers\n",
    "def average(a, b):\n",
    "    return 0  # fix me!\n",
    "\n",
    "print(average(2, 5), \"is 1 + 1!\")"
   ]
  },
  {
   "cell_type": "markdown",
   "metadata": {},
   "source": [
    "## 7. Dictionaries\n",
    "\n",
    "Store data as key-value pairs."
   ]
  },
  {
   "cell_type": "code",
   "execution_count": null,
   "metadata": {},
   "outputs": [],
   "source": [
    "person = {\n",
    "    \"name\": \"Alice\",\n",
    "    \"age\": 30,\n",
    "    \"city\": \"New York\"\n",
    "}\n",
    "\n",
    "print(\"Name:\", person[\"name\"])\n",
    "print(\"Age:\", person[\"age\"])\n",
    "\n",
    "# Add new key-value pair\n",
    "person[\"job\"] = \"Engineer\"\n",
    "print(person)\n",
    "\n",
    "# print alice's name and job!"
   ]
  },
  {
   "cell_type": "markdown",
   "metadata": {},
   "source": [
    "## 8. Practice Exercise\n",
    "\n",
    "Try creating a function that takes a list of numbers and returns the average."
   ]
  },
  {
   "cell_type": "code",
   "execution_count": null,
   "metadata": {},
   "outputs": [],
   "source": [
    "def calculate_average(numbers):\n",
    "    total = sum(numbers)\n",
    "    count = len(numbers)\n",
    "    return total / count\n",
    "\n",
    "# Test it\n",
    "scores = [85, 92, 78, 90, 88]\n",
    "avg = calculate_average(scores)\n",
    "print(f\"Average score: {avg}\")"
   ]
  },
  {
   "cell_type": "markdown",
   "metadata": {},
   "source": [
    "## Congratulations!\n",
    "\n",
    "You've learned the basics of Python syntax. Try modifying the code above and experiment on your own!"
   ]
  }
 ],
 "metadata": {
  "kernelspec": {
   "display_name": "Python 3",
   "language": "python",
   "name": "python3"
  },
  "language_info": {
   "codemirror_mode": {
    "name": "ipython",
    "version": 3
   },
   "file_extension": ".py",
   "mimetype": "text/x-python",
   "name": "python",
   "nbconvert_exporter": "python",
   "pygments_lexer": "ipython3",
   "version": "3.10.0"
  }
 },
 "nbformat": 4,
 "nbformat_minor": 4
}
